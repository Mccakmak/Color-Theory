{
 "cells": [
  {
   "cell_type": "code",
   "execution_count": 53,
   "id": "de094ffc",
   "metadata": {},
   "outputs": [],
   "source": [
    "import pandas as pd\n",
    "import numpy as np\n",
    "from scipy.spatial.distance import cosine\n",
    "from scipy.spatial.distance import euclidean"
   ]
  },
  {
   "cell_type": "code",
   "execution_count": 57,
   "id": "cd77a784",
   "metadata": {},
   "outputs": [],
   "source": [
    "def find_similarity_score(emoloex_df, input1, input2):\n",
    "    \n",
    "    word1 = emolex_df[emolex_df.word == input1]\n",
    "    word2 = emolex_df[emolex_df.word == input2]\n",
    "    \n",
    "    vec1 = list(word1.iloc[0, 1:].values)\n",
    "    vec2 = list(word2.iloc[0, 1:].values)\n",
    "    \n",
    "    \n",
    "    if all(element == 0 for element in vec1) or all(element == 0 for element in vec2):\n",
    "        # One of the vectors is a zero vector, return a predefined value (e.g., infinity).\n",
    "        return 1 - euclidean(vec1, vec2)\n",
    "    else:\n",
    "        # Calculate the Cosine distance for non-zero vectors.\n",
    "        return 1 - cosine(vec1, vec2)\n",
    "    \n",
    "def map_words_to_emotion():\n",
    "    \n",
    "    # Load the lexicon\n",
    "    emolex_df = pd.read_csv('NRC-Emotion-Lexicon/NRC-Emotion-Lexicon-Wordlevel-v0.92.txt',  names=[\"word\", \"emotion\", \"association\"], sep='\\t')\n",
    "    emolex_df = emolex_df.pivot(index='word', columns='emotion', values='association').reset_index()\n",
    "    \n",
    "    main_emotions = ['neutral', 'anger', 'joy', 'fear', 'surprise', 'sadness', 'disgust']\n",
    "    video_emotions = {'powerful': 0.3649934210526318, 'fear': 0.35658634868421074, 'depressive': 0.18375822368421063, 'sadness': 0.015363486842105263, 'boredom': 0.012225328947368422, 'disgust': 0.007755592105263159, 'confusion': 0.006460361842105263, 'introspective': 0.006263157894736843, 'melancholic': 0.006263157894736843, 'loathing': 0.006263157894736843, 'tired': 0.006263157894736843, 'calm': 0.004125822368421053, 'love': 0.003629769736842106, 'contempt': 0.0031315789473684214, 'greed': 0.0029827302631578955, 'envious': 0.0009942434210526317, 'trust': 0.0009942434210526317, 'submission': 0.0009942434210526317, 'admiration': 0.0009942434210526317, 'comfort': 0.0009942434210526317, 'annoyance': 0.0009942434210526317, 'hopeful': 0.0009942434210526317, 'apprehension': 0.0009942434210526317, 'jealousy': 0.0009942434210526317, 'acceptance': 0.0009942434210526317, 'terror': 0.0009942434210526317, 'peaceful': 0.0009942434210526317, 'faith': 0.0009942434210526317, 'sick': 0.0004981907894736843, 'awe': 0.0004981907894736843, 'determination': 0.0, 'grief': 0.0, 'pensive': 0.0, 'anger': 0.0, 'joy': 0.0, 'confident': 0.0, 'innocence': 0.0, 'aggressive': 0.0, 'excited': 0.0, 'discomfort': 0.0, 'lonely': 0.0, 'serenity': 0.0, 'optimism': 0.0, 'energetic': 0.0, 'interest': 0.0, 'shame': 0.0, 'disapproval': 0.0, 'surprise': 0.0, 'happiness': 0.0, 'distraction': 0.0, 'vigilance': 0.0, 'ecstasy': 0.0, 'anticipation': 0.0, 'amazement': 0.0, 'rage': 0.0}\n",
    "    \n",
    "    mapped_emotions = {}\n",
    "    for word, weight in video_emotions.items():\n",
    "        scores = []\n",
    "        for emotion in main_emotions:\n",
    "            scores.append(find_similarity_score(emolex_df, word, emotion))\n",
    "        # Find the most similar emotion using similarity score\n",
    "        mapped_emotion = main_emotions[scores.index(max(scores))]\n",
    "        mapped_emotions[mapped_emotion] = mapped_emotions.get(mapped_emotion, 0) + weight\n",
    "        \n",
    "if __name__ == '__main__':\n",
    "    map_words_to_emotion():  "
   ]
  }
 ],
 "metadata": {
  "kernelspec": {
   "display_name": "Python 3 (ipykernel)",
   "language": "python",
   "name": "python3"
  },
  "language_info": {
   "codemirror_mode": {
    "name": "ipython",
    "version": 3
   },
   "file_extension": ".py",
   "mimetype": "text/x-python",
   "name": "python",
   "nbconvert_exporter": "python",
   "pygments_lexer": "ipython3",
   "version": "3.9.10"
  }
 },
 "nbformat": 4,
 "nbformat_minor": 5
}
