{
 "cells": [
  {
   "cell_type": "code",
   "execution_count": 22,
   "id": "b5053f61",
   "metadata": {},
   "outputs": [],
   "source": [
    "from collections import Counter\n",
    "import json\n",
    "import pickle "
   ]
  },
  {
   "cell_type": "code",
   "execution_count": 23,
   "id": "ff563da5",
   "metadata": {},
   "outputs": [],
   "source": [
    "def evaluate_weights(color2emotion_weight_dic, color2emotion_dic):\n",
    "    for color in color2emotion_dic.keys():\n",
    "       \n",
    "        # Ignore mixed colors for now\n",
    "        if '-' in color:\n",
    "            continue\n",
    "            \n",
    "        # Find the count of the emotion in the emotion list and save it in the dictionary\n",
    "        color2emotion_weight_dic[color] = dict(Counter([item for sublist in color2emotion_dic[color] for item in sublist]))\n",
    "        \n",
    "    return color2emotion_weight_dic"
   ]
  },
  {
   "cell_type": "code",
   "execution_count": 24,
   "id": "bb59d6d6",
   "metadata": {},
   "outputs": [],
   "source": [
    "def add_half_weight(color2emotion_weight_dic, emotion, count, color):\n",
    "    # If the emotion is there, add half of the count value\n",
    "    if emotion in color2emotion_weight_dic[color]:\n",
    "        color2emotion_weight_dic[color][emotion] += (count/2)\n",
    "    # If the emotion is new, put the half of the count value\n",
    "    else:\n",
    "        color2emotion_weight_dic[color][emotion] = (count/2)"
   ]
  },
  {
   "cell_type": "code",
   "execution_count": 25,
   "id": "71896503",
   "metadata": {},
   "outputs": [],
   "source": [
    "def find_attr_mixed_colors(color2emotion_dic, color):\n",
    "    mix_color_emotions = dict(Counter([item for sublist in color2emotion_dic[color] for item in sublist])).keys()\n",
    "    mix_color_counts = dict(Counter([item for sublist in color2emotion_dic[color] for item in sublist])).values()\n",
    "    \n",
    "    return mix_color_emotions, mix_color_counts"
   ]
  },
  {
   "cell_type": "code",
   "execution_count": 26,
   "id": "b789087e",
   "metadata": {},
   "outputs": [],
   "source": [
    "def include_mixed_colors(color2emotion_weight_dic, color2emotion_dic):\n",
    "    for color in color2emotion_dic.keys():\n",
    "        if '-' in color:\n",
    "            # find mixed colors\n",
    "            color1, color2 = color.split('-')\n",
    "            \n",
    "            mix_color_emotions, mix_color_counts = find_attr_mixed_colors(color2emotion_dic, color)\n",
    "           \n",
    "            # Adding half weight\n",
    "            for emotion, count in zip(mix_color_emotions, mix_color_counts):\n",
    "                add_half_weight(color2emotion_weight_dic, emotion, count, color1)\n",
    "                add_half_weight(color2emotion_weight_dic, emotion, count, color2)\n",
    "                \n",
    "    return color2emotion_weight_dic"
   ]
  },
  {
   "cell_type": "code",
   "execution_count": 27,
   "id": "55342284",
   "metadata": {},
   "outputs": [],
   "source": [
    "def make_percentage(color2emotion_weight_dic, color):\n",
    "    total = sum(color2emotion_weight_dic[color].values())\n",
    "    for key, val in color2emotion_weight_dic[color].items():\n",
    "        color2emotion_weight_dic[color][key] = format(val/total, '.4f')\n",
    "    return color2emotion_weight_dic"
   ]
  },
  {
   "cell_type": "code",
   "execution_count": 28,
   "id": "ac579ae8",
   "metadata": {},
   "outputs": [],
   "source": [
    "def find_weights(color2emotion_weight_dic): \n",
    "    for color in color2emotion_weight_dic.keys():\n",
    "        color2emotion_weight_dic = make_percentage(color2emotion_weight_dic, color)\n",
    "    return color2emotion_weight_dic"
   ]
  },
  {
   "cell_type": "code",
   "execution_count": 37,
   "id": "6b195ea1",
   "metadata": {},
   "outputs": [],
   "source": [
    "def main():\n",
    "    \n",
    "    # Color and Emotion Mapping from Literature Reviews:\n",
    "    color2emotion_dic = {'yellow': [['joy'],['fear', 'happy', 'joy'], ['happy'], ['joy', 'happy'], ['fear']],\n",
    "                     'yellow-red': [['powerful'], ['energetic', 'excited']],\n",
    "                     'red-yellow': [['happy']],\n",
    "                     'blue': [['sad'], ['confident', 'sad'], ['calm'], ['trust'], ['confused']],\n",
    "                     'red-blue':[['discomfort']],\n",
    "                     'blue-red':[['discomfort']],\n",
    "                     'red':[['faith'], ['anger', 'love'], ['anger', 'love'], ['anger'], ['anger']],\n",
    "                     'green':[['calm'], ['faith', 'greed'], ['comfortable', 'hopeful', 'peaceful'], ['greed'], ['greed']],\n",
    "                     'orange':[['joy', 'determination'], ['joy', 'happy'], ['shame']],\n",
    "                     'purple':[['introspective', 'melancholic'], ['tired'], ['sad'], ['powerful']],\n",
    "                     'green-yellow':[['disgust', 'annoyed']],\n",
    "                     'blue-green':[['annoyed', 'confused', 'sick']],\n",
    "                     'purple-blue':[['calm', 'powerful']],\n",
    "                     'red-purple':[['love']],\n",
    "                     'white':[['innocent','lonely','peaceful']],\n",
    "                     'gray':[['bored', 'confused','depressed','sad']],\n",
    "                     'black':[['depressed','fear','powerful'], ['powerful']]\n",
    "                    }\n",
    "\n",
    "    color2emotion_weight_dic = {}\n",
    "    \n",
    "    evaluate_weights(color2emotion_weight_dic, color2emotion_dic)\n",
    "    include_mixed_colors(color2emotion_weight_dic, color2emotion_dic)\n",
    "    find_weights(color2emotion_weight_dic)\n",
    "    \n",
    "    with open('color2emotion_weight_dict.pkl', 'wb') as f:\n",
    "        for key, emotion_dict in color2emotion_weight_dic.items():\n",
    "            emotion_dict.update((key, float(val)) for key, val in emotion_dict.items())\n",
    "        pickle.dump(color2emotion_weight_dic, f)"
   ]
  },
  {
   "cell_type": "code",
   "execution_count": 38,
   "id": "dd9c32f4",
   "metadata": {
    "scrolled": false
   },
   "outputs": [],
   "source": [
    "if __name__ == '__main__':\n",
    "    main()"
   ]
  },
  {
   "cell_type": "code",
   "execution_count": null,
   "id": "573d7821",
   "metadata": {},
   "outputs": [],
   "source": []
  }
 ],
 "metadata": {
  "kernelspec": {
   "display_name": "Python 3 (ipykernel)",
   "language": "python",
   "name": "python3"
  },
  "language_info": {
   "codemirror_mode": {
    "name": "ipython",
    "version": 3
   },
   "file_extension": ".py",
   "mimetype": "text/x-python",
   "name": "python",
   "nbconvert_exporter": "python",
   "pygments_lexer": "ipython3",
   "version": "3.9.10"
  }
 },
 "nbformat": 4,
 "nbformat_minor": 5
}
