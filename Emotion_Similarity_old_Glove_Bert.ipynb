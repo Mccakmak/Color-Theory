{
 "cells": [
  {
   "cell_type": "markdown",
   "id": "b6af3226",
   "metadata": {},
   "source": [
    "### GLOVE"
   ]
  },
  {
   "cell_type": "code",
   "execution_count": 1,
   "id": "f51f04bd",
   "metadata": {},
   "outputs": [],
   "source": [
    "import requests\n",
    "import zipfile\n",
    "import os\n",
    "from tqdm import tqdm\n",
    "from gensim.scripts.glove2word2vec import glove2word2vec\n",
    "from gensim.models import KeyedVectors\n",
    "from scipy.spatial.distance import cosine"
   ]
  },
  {
   "cell_type": "code",
   "execution_count": 2,
   "id": "7c83742c",
   "metadata": {},
   "outputs": [
    {
     "name": "stdout",
     "output_type": "stream",
     "text": [
      "File already exists.\n",
      "Converting...\n"
     ]
    }
   ],
   "source": [
    "def download_file(url):\n",
    "    response = requests.get(url, stream=True)\n",
    "    total_size = int(response.headers.get('content-length', 0))\n",
    "    block_size = 1024  # 1 Kibibyte\n",
    "    t=tqdm(total=total_size, unit='iB', unit_scale=True)\n",
    "    with open('glove.6B.zip', 'wb') as file:\n",
    "        for data in response.iter_content(block_size):\n",
    "            t.update(len(data))\n",
    "            file.write(data)\n",
    "    t.close()\n",
    "    if total_size != 0 and t.n != total_size:\n",
    "        print(\"ERROR, something went wrong\")\n",
    "\n",
    "# Check if the file already exists\n",
    "if not os.path.exists('glove.6B.zip'):\n",
    "    # URL of the GloVe embeddings\n",
    "    url = 'http://nlp.stanford.edu/data/glove.6B.zip'\n",
    "\n",
    "    download_file(url)\n",
    "\n",
    "    # Create a directory to extract the zip file to\n",
    "    if not os.path.exists('glove'):\n",
    "        os.makedirs('glove')\n",
    "\n",
    "    # Extract the zip file\n",
    "    with zipfile.ZipFile('glove.6B.zip', 'r') as zip_ref:\n",
    "        zip_ref.extractall('glove')\n",
    "else:\n",
    "    print(\"File already exists.\")\n",
    "\n",
    "# Check if the conversion is already done\n",
    "if not os.path.exists('glove/glove.6B.300d.txt.word2vec'):\n",
    "    print(\"Converting...\")\n",
    "    # After downloading and extracting, convert the GloVe vectors into word2vec format:\n",
    "    glove_input_file = 'glove/glove.6B.300d.txt'\n",
    "    word2vec_output_file = 'glove/glove.6B.300d.txt.word2vec'\n",
    "    #glove2word2vec(glove_input_file, word2vec_output_file)\n",
    "    KeyedVectors.load_word2vec_format(glove_input_file, binary=False, no_header=True).save_word2vec_format(word2vec_output_file)\n",
    "\n",
    "# Now we can load these vectors into a Gensim model:\n",
    "model = KeyedVectors.load_word2vec_format(word2vec_output_file, binary=False)"
   ]
  },
  {
   "cell_type": "code",
   "execution_count": 1,
   "id": "46b534b3",
   "metadata": {},
   "outputs": [
    {
     "ename": "NameError",
     "evalue": "name 'model' is not defined",
     "output_type": "error",
     "traceback": [
      "\u001b[1;31m---------------------------------------------------------------------------\u001b[0m",
      "\u001b[1;31mNameError\u001b[0m                                 Traceback (most recent call last)",
      "Input \u001b[1;32mIn [1]\u001b[0m, in \u001b[0;36m<cell line: 2>\u001b[1;34m()\u001b[0m\n\u001b[0;32m      1\u001b[0m \u001b[38;5;66;03m# And calculate cosine similarity between two words\u001b[39;00m\n\u001b[1;32m----> 2\u001b[0m similarity_score \u001b[38;5;241m=\u001b[39m \u001b[43mmodel\u001b[49m\u001b[38;5;241m.\u001b[39msimilarity(\u001b[38;5;124m'\u001b[39m\u001b[38;5;124mjoy\u001b[39m\u001b[38;5;124m'\u001b[39m, \u001b[38;5;124m'\u001b[39m\u001b[38;5;124mhappiness\u001b[39m\u001b[38;5;124m'\u001b[39m)\n\u001b[0;32m      4\u001b[0m \u001b[38;5;28mprint\u001b[39m(\u001b[38;5;124m\"\u001b[39m\u001b[38;5;124mSimilarity\u001b[39m\u001b[38;5;124m\"\u001b[39m, similarity_score)\n",
      "\u001b[1;31mNameError\u001b[0m: name 'model' is not defined"
     ]
    }
   ],
   "source": [
    "# And calculate cosine similarity between two words\n",
    "similarity_score = model.similarity('joy', 'happiness')\n",
    "\n",
    "print(\"Similarity\", similarity_score)"
   ]
  },
  {
   "cell_type": "markdown",
   "id": "d4be6eed",
   "metadata": {},
   "source": [
    "### BERT"
   ]
  },
  {
   "cell_type": "code",
   "execution_count": 2,
   "id": "8d8192de",
   "metadata": {},
   "outputs": [
    {
     "name": "stderr",
     "output_type": "stream",
     "text": [
      "Some weights of the model checkpoint at bert-base-uncased were not used when initializing BertModel: ['cls.seq_relationship.weight', 'cls.predictions.transform.dense.weight', 'cls.predictions.transform.LayerNorm.bias', 'cls.predictions.decoder.weight', 'cls.predictions.bias', 'cls.predictions.transform.dense.bias', 'cls.seq_relationship.bias', 'cls.predictions.transform.LayerNorm.weight']\n",
      "- This IS expected if you are initializing BertModel from the checkpoint of a model trained on another task or with another architecture (e.g. initializing a BertForSequenceClassification model from a BertForPreTraining model).\n",
      "- This IS NOT expected if you are initializing BertModel from the checkpoint of a model that you expect to be exactly identical (initializing a BertForSequenceClassification model from a BertForSequenceClassification model).\n"
     ]
    },
    {
     "name": "stdout",
     "output_type": "stream",
     "text": [
      "Similarity between joy and happiness:  0.8387427926063538\n"
     ]
    }
   ],
   "source": [
    "from transformers import BertModel, BertTokenizer\n",
    "import torch\n",
    "from scipy.spatial.distance import cosine\n",
    "\n",
    "# Initialize the BERT model and tokenizer\n",
    "tokenizer = BertTokenizer.from_pretrained('bert-base-uncased')\n",
    "model = BertModel.from_pretrained('bert-base-uncased')\n",
    "\n",
    "# Define a function to get word embeddings\n",
    "def get_word_embedding(word):\n",
    "    inputs = tokenizer(word, return_tensors='pt')\n",
    "    outputs = model(**inputs)\n",
    "    return outputs.last_hidden_state[0, 1, :].detach().numpy()\n",
    "\n"
   ]
  },
  {
   "cell_type": "code",
   "execution_count": 16,
   "id": "5f65aee8",
   "metadata": {},
   "outputs": [
    {
     "name": "stdout",
     "output_type": "stream",
     "text": [
      "Similarity between joy and happiness:  0.7349165678024292\n"
     ]
    }
   ],
   "source": [
    "# Get the embeddings for the words\n",
    "word1_embedding = get_word_embedding('I feel happy')\n",
    "word2_embedding = get_word_embedding('I feel joy')\n",
    "\n",
    "# Calculate cosine similarity\n",
    "similarity = 1 - cosine(word1_embedding, word2_embedding)\n",
    "\n",
    "print(\"Similarity between joy and happiness: \", similarity)"
   ]
  }
 ],
 "metadata": {
  "kernelspec": {
   "display_name": "Python 3 (ipykernel)",
   "language": "python",
   "name": "python3"
  },
  "language_info": {
   "codemirror_mode": {
    "name": "ipython",
    "version": 3
   },
   "file_extension": ".py",
   "mimetype": "text/x-python",
   "name": "python",
   "nbconvert_exporter": "python",
   "pygments_lexer": "ipython3",
   "version": "3.9.10"
  }
 },
 "nbformat": 4,
 "nbformat_minor": 5
}
